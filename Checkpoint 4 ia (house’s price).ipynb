{
 "cells": [
  {
   "cell_type": "code",
   "execution_count": 1,
   "id": "ebf02cac",
   "metadata": {},
   "outputs": [],
   "source": [
    "import pandas as pd\n",
    "import numpy as np\n",
    "import matplotlib.pyplot as plt\n",
    "import seaborn as sns\n",
    "url='https://drive.google.com/file/d/1Yf8pIkoJ0XG-Wz9T46wYRVobRhbOUtq8/'\n",
    "file_id=url.split('/')[-2]\n",
    "dwn_url='https://drive.google.com/uc?id=' + file_id\n",
    "df_houses= pd.read_csv(dwn_url)"
   ]
  },
  {
   "cell_type": "markdown",
   "id": "87c186e9",
   "metadata": {},
   "source": [
    "### preprocessing  visualization "
   ]
  },
  {
   "cell_type": "code",
   "execution_count": 2,
   "id": "d6a50d78",
   "metadata": {},
   "outputs": [
    {
     "name": "stdout",
     "output_type": "stream",
     "text": [
      "<class 'pandas.core.frame.DataFrame'>\n",
      "RangeIndex: 21613 entries, 0 to 21612\n",
      "Data columns (total 21 columns):\n",
      " #   Column         Non-Null Count  Dtype  \n",
      "---  ------         --------------  -----  \n",
      " 0   id             21613 non-null  int64  \n",
      " 1   date           21613 non-null  object \n",
      " 2   price          21613 non-null  float64\n",
      " 3   bedrooms       21613 non-null  int64  \n",
      " 4   bathrooms      21613 non-null  float64\n",
      " 5   sqft_living    21613 non-null  int64  \n",
      " 6   sqft_lot       21613 non-null  int64  \n",
      " 7   floors         21613 non-null  float64\n",
      " 8   waterfront     21613 non-null  int64  \n",
      " 9   view           21613 non-null  int64  \n",
      " 10  condition      21613 non-null  int64  \n",
      " 11  grade          21613 non-null  int64  \n",
      " 12  sqft_above     21613 non-null  int64  \n",
      " 13  sqft_basement  21613 non-null  int64  \n",
      " 14  yr_built       21613 non-null  int64  \n",
      " 15  yr_renovated   21613 non-null  int64  \n",
      " 16  zipcode        21613 non-null  int64  \n",
      " 17  lat            21613 non-null  float64\n",
      " 18  long           21613 non-null  float64\n",
      " 19  sqft_living15  21613 non-null  int64  \n",
      " 20  sqft_lot15     21613 non-null  int64  \n",
      "dtypes: float64(5), int64(15), object(1)\n",
      "memory usage: 3.5+ MB\n"
     ]
    }
   ],
   "source": [
    "df_houses.info();"
   ]
  },
  {
   "cell_type": "code",
   "execution_count": 3,
   "id": "9816b05d",
   "metadata": {},
   "outputs": [],
   "source": [
    "df_houses['date']=pd.DatetimeIndex(pd.to_datetime(df_houses['date'])).year"
   ]
  },
  {
   "cell_type": "code",
   "execution_count": 4,
   "id": "e8e12533",
   "metadata": {},
   "outputs": [
    {
     "data": {
      "text/plain": [
       "id              -0.016762\n",
       "date             0.003576\n",
       "price            1.000000\n",
       "bedrooms         0.308350\n",
       "bathrooms        0.525138\n",
       "sqft_living      0.702035\n",
       "sqft_lot         0.089661\n",
       "floors           0.256794\n",
       "waterfront       0.266369\n",
       "view             0.397293\n",
       "condition        0.036362\n",
       "grade            0.667434\n",
       "sqft_above       0.605567\n",
       "sqft_basement    0.323816\n",
       "yr_built         0.054012\n",
       "yr_renovated     0.126434\n",
       "zipcode         -0.053203\n",
       "lat              0.307003\n",
       "long             0.021626\n",
       "sqft_living15    0.585379\n",
       "sqft_lot15       0.082447\n",
       "Name: price, dtype: float64"
      ]
     },
     "execution_count": 4,
     "metadata": {},
     "output_type": "execute_result"
    }
   ],
   "source": [
    "df_houses.corr()['price']"
   ]
  },
  {
   "cell_type": "code",
   "execution_count": 5,
   "id": "29e2ccba",
   "metadata": {},
   "outputs": [
    {
     "data": {
      "text/html": [
       "<div>\n",
       "<style scoped>\n",
       "    .dataframe tbody tr th:only-of-type {\n",
       "        vertical-align: middle;\n",
       "    }\n",
       "\n",
       "    .dataframe tbody tr th {\n",
       "        vertical-align: top;\n",
       "    }\n",
       "\n",
       "    .dataframe thead th {\n",
       "        text-align: right;\n",
       "    }\n",
       "</style>\n",
       "<table border=\"1\" class=\"dataframe\">\n",
       "  <thead>\n",
       "    <tr style=\"text-align: right;\">\n",
       "      <th></th>\n",
       "      <th>id</th>\n",
       "      <th>date</th>\n",
       "      <th>price</th>\n",
       "      <th>bedrooms</th>\n",
       "      <th>bathrooms</th>\n",
       "      <th>sqft_living</th>\n",
       "      <th>sqft_lot</th>\n",
       "      <th>floors</th>\n",
       "      <th>waterfront</th>\n",
       "      <th>view</th>\n",
       "      <th>...</th>\n",
       "      <th>grade</th>\n",
       "      <th>sqft_above</th>\n",
       "      <th>sqft_basement</th>\n",
       "      <th>yr_built</th>\n",
       "      <th>yr_renovated</th>\n",
       "      <th>zipcode</th>\n",
       "      <th>lat</th>\n",
       "      <th>long</th>\n",
       "      <th>sqft_living15</th>\n",
       "      <th>sqft_lot15</th>\n",
       "    </tr>\n",
       "  </thead>\n",
       "  <tbody>\n",
       "    <tr>\n",
       "      <th>count</th>\n",
       "      <td>2.161300e+04</td>\n",
       "      <td>21613.000000</td>\n",
       "      <td>2.161300e+04</td>\n",
       "      <td>21613.000000</td>\n",
       "      <td>21613.000000</td>\n",
       "      <td>21613.000000</td>\n",
       "      <td>2.161300e+04</td>\n",
       "      <td>21613.000000</td>\n",
       "      <td>21613.000000</td>\n",
       "      <td>21613.000000</td>\n",
       "      <td>...</td>\n",
       "      <td>21613.000000</td>\n",
       "      <td>21613.000000</td>\n",
       "      <td>21613.000000</td>\n",
       "      <td>21613.000000</td>\n",
       "      <td>21613.000000</td>\n",
       "      <td>21613.000000</td>\n",
       "      <td>21613.000000</td>\n",
       "      <td>21613.000000</td>\n",
       "      <td>21613.000000</td>\n",
       "      <td>21613.000000</td>\n",
       "    </tr>\n",
       "    <tr>\n",
       "      <th>mean</th>\n",
       "      <td>4.580302e+09</td>\n",
       "      <td>2014.322954</td>\n",
       "      <td>5.400881e+05</td>\n",
       "      <td>3.370842</td>\n",
       "      <td>2.114757</td>\n",
       "      <td>2079.899736</td>\n",
       "      <td>1.510697e+04</td>\n",
       "      <td>1.494309</td>\n",
       "      <td>0.007542</td>\n",
       "      <td>0.234303</td>\n",
       "      <td>...</td>\n",
       "      <td>7.656873</td>\n",
       "      <td>1788.390691</td>\n",
       "      <td>291.509045</td>\n",
       "      <td>1971.005136</td>\n",
       "      <td>84.402258</td>\n",
       "      <td>98077.939805</td>\n",
       "      <td>47.560053</td>\n",
       "      <td>-122.213896</td>\n",
       "      <td>1986.552492</td>\n",
       "      <td>12768.455652</td>\n",
       "    </tr>\n",
       "    <tr>\n",
       "      <th>std</th>\n",
       "      <td>2.876566e+09</td>\n",
       "      <td>0.467616</td>\n",
       "      <td>3.671272e+05</td>\n",
       "      <td>0.930062</td>\n",
       "      <td>0.770163</td>\n",
       "      <td>918.440897</td>\n",
       "      <td>4.142051e+04</td>\n",
       "      <td>0.539989</td>\n",
       "      <td>0.086517</td>\n",
       "      <td>0.766318</td>\n",
       "      <td>...</td>\n",
       "      <td>1.175459</td>\n",
       "      <td>828.090978</td>\n",
       "      <td>442.575043</td>\n",
       "      <td>29.373411</td>\n",
       "      <td>401.679240</td>\n",
       "      <td>53.505026</td>\n",
       "      <td>0.138564</td>\n",
       "      <td>0.140828</td>\n",
       "      <td>685.391304</td>\n",
       "      <td>27304.179631</td>\n",
       "    </tr>\n",
       "    <tr>\n",
       "      <th>min</th>\n",
       "      <td>1.000102e+06</td>\n",
       "      <td>2014.000000</td>\n",
       "      <td>7.500000e+04</td>\n",
       "      <td>0.000000</td>\n",
       "      <td>0.000000</td>\n",
       "      <td>290.000000</td>\n",
       "      <td>5.200000e+02</td>\n",
       "      <td>1.000000</td>\n",
       "      <td>0.000000</td>\n",
       "      <td>0.000000</td>\n",
       "      <td>...</td>\n",
       "      <td>1.000000</td>\n",
       "      <td>290.000000</td>\n",
       "      <td>0.000000</td>\n",
       "      <td>1900.000000</td>\n",
       "      <td>0.000000</td>\n",
       "      <td>98001.000000</td>\n",
       "      <td>47.155900</td>\n",
       "      <td>-122.519000</td>\n",
       "      <td>399.000000</td>\n",
       "      <td>651.000000</td>\n",
       "    </tr>\n",
       "    <tr>\n",
       "      <th>25%</th>\n",
       "      <td>2.123049e+09</td>\n",
       "      <td>2014.000000</td>\n",
       "      <td>3.219500e+05</td>\n",
       "      <td>3.000000</td>\n",
       "      <td>1.750000</td>\n",
       "      <td>1427.000000</td>\n",
       "      <td>5.040000e+03</td>\n",
       "      <td>1.000000</td>\n",
       "      <td>0.000000</td>\n",
       "      <td>0.000000</td>\n",
       "      <td>...</td>\n",
       "      <td>7.000000</td>\n",
       "      <td>1190.000000</td>\n",
       "      <td>0.000000</td>\n",
       "      <td>1951.000000</td>\n",
       "      <td>0.000000</td>\n",
       "      <td>98033.000000</td>\n",
       "      <td>47.471000</td>\n",
       "      <td>-122.328000</td>\n",
       "      <td>1490.000000</td>\n",
       "      <td>5100.000000</td>\n",
       "    </tr>\n",
       "    <tr>\n",
       "      <th>50%</th>\n",
       "      <td>3.904930e+09</td>\n",
       "      <td>2014.000000</td>\n",
       "      <td>4.500000e+05</td>\n",
       "      <td>3.000000</td>\n",
       "      <td>2.250000</td>\n",
       "      <td>1910.000000</td>\n",
       "      <td>7.618000e+03</td>\n",
       "      <td>1.500000</td>\n",
       "      <td>0.000000</td>\n",
       "      <td>0.000000</td>\n",
       "      <td>...</td>\n",
       "      <td>7.000000</td>\n",
       "      <td>1560.000000</td>\n",
       "      <td>0.000000</td>\n",
       "      <td>1975.000000</td>\n",
       "      <td>0.000000</td>\n",
       "      <td>98065.000000</td>\n",
       "      <td>47.571800</td>\n",
       "      <td>-122.230000</td>\n",
       "      <td>1840.000000</td>\n",
       "      <td>7620.000000</td>\n",
       "    </tr>\n",
       "    <tr>\n",
       "      <th>75%</th>\n",
       "      <td>7.308900e+09</td>\n",
       "      <td>2015.000000</td>\n",
       "      <td>6.450000e+05</td>\n",
       "      <td>4.000000</td>\n",
       "      <td>2.500000</td>\n",
       "      <td>2550.000000</td>\n",
       "      <td>1.068800e+04</td>\n",
       "      <td>2.000000</td>\n",
       "      <td>0.000000</td>\n",
       "      <td>0.000000</td>\n",
       "      <td>...</td>\n",
       "      <td>8.000000</td>\n",
       "      <td>2210.000000</td>\n",
       "      <td>560.000000</td>\n",
       "      <td>1997.000000</td>\n",
       "      <td>0.000000</td>\n",
       "      <td>98118.000000</td>\n",
       "      <td>47.678000</td>\n",
       "      <td>-122.125000</td>\n",
       "      <td>2360.000000</td>\n",
       "      <td>10083.000000</td>\n",
       "    </tr>\n",
       "    <tr>\n",
       "      <th>max</th>\n",
       "      <td>9.900000e+09</td>\n",
       "      <td>2015.000000</td>\n",
       "      <td>7.700000e+06</td>\n",
       "      <td>33.000000</td>\n",
       "      <td>8.000000</td>\n",
       "      <td>13540.000000</td>\n",
       "      <td>1.651359e+06</td>\n",
       "      <td>3.500000</td>\n",
       "      <td>1.000000</td>\n",
       "      <td>4.000000</td>\n",
       "      <td>...</td>\n",
       "      <td>13.000000</td>\n",
       "      <td>9410.000000</td>\n",
       "      <td>4820.000000</td>\n",
       "      <td>2015.000000</td>\n",
       "      <td>2015.000000</td>\n",
       "      <td>98199.000000</td>\n",
       "      <td>47.777600</td>\n",
       "      <td>-121.315000</td>\n",
       "      <td>6210.000000</td>\n",
       "      <td>871200.000000</td>\n",
       "    </tr>\n",
       "  </tbody>\n",
       "</table>\n",
       "<p>8 rows × 21 columns</p>\n",
       "</div>"
      ],
      "text/plain": [
       "                 id          date         price      bedrooms     bathrooms  \\\n",
       "count  2.161300e+04  21613.000000  2.161300e+04  21613.000000  21613.000000   \n",
       "mean   4.580302e+09   2014.322954  5.400881e+05      3.370842      2.114757   \n",
       "std    2.876566e+09      0.467616  3.671272e+05      0.930062      0.770163   \n",
       "min    1.000102e+06   2014.000000  7.500000e+04      0.000000      0.000000   \n",
       "25%    2.123049e+09   2014.000000  3.219500e+05      3.000000      1.750000   \n",
       "50%    3.904930e+09   2014.000000  4.500000e+05      3.000000      2.250000   \n",
       "75%    7.308900e+09   2015.000000  6.450000e+05      4.000000      2.500000   \n",
       "max    9.900000e+09   2015.000000  7.700000e+06     33.000000      8.000000   \n",
       "\n",
       "        sqft_living      sqft_lot        floors    waterfront          view  \\\n",
       "count  21613.000000  2.161300e+04  21613.000000  21613.000000  21613.000000   \n",
       "mean    2079.899736  1.510697e+04      1.494309      0.007542      0.234303   \n",
       "std      918.440897  4.142051e+04      0.539989      0.086517      0.766318   \n",
       "min      290.000000  5.200000e+02      1.000000      0.000000      0.000000   \n",
       "25%     1427.000000  5.040000e+03      1.000000      0.000000      0.000000   \n",
       "50%     1910.000000  7.618000e+03      1.500000      0.000000      0.000000   \n",
       "75%     2550.000000  1.068800e+04      2.000000      0.000000      0.000000   \n",
       "max    13540.000000  1.651359e+06      3.500000      1.000000      4.000000   \n",
       "\n",
       "       ...         grade    sqft_above  sqft_basement      yr_built  \\\n",
       "count  ...  21613.000000  21613.000000   21613.000000  21613.000000   \n",
       "mean   ...      7.656873   1788.390691     291.509045   1971.005136   \n",
       "std    ...      1.175459    828.090978     442.575043     29.373411   \n",
       "min    ...      1.000000    290.000000       0.000000   1900.000000   \n",
       "25%    ...      7.000000   1190.000000       0.000000   1951.000000   \n",
       "50%    ...      7.000000   1560.000000       0.000000   1975.000000   \n",
       "75%    ...      8.000000   2210.000000     560.000000   1997.000000   \n",
       "max    ...     13.000000   9410.000000    4820.000000   2015.000000   \n",
       "\n",
       "       yr_renovated       zipcode           lat          long  sqft_living15  \\\n",
       "count  21613.000000  21613.000000  21613.000000  21613.000000   21613.000000   \n",
       "mean      84.402258  98077.939805     47.560053   -122.213896    1986.552492   \n",
       "std      401.679240     53.505026      0.138564      0.140828     685.391304   \n",
       "min        0.000000  98001.000000     47.155900   -122.519000     399.000000   \n",
       "25%        0.000000  98033.000000     47.471000   -122.328000    1490.000000   \n",
       "50%        0.000000  98065.000000     47.571800   -122.230000    1840.000000   \n",
       "75%        0.000000  98118.000000     47.678000   -122.125000    2360.000000   \n",
       "max     2015.000000  98199.000000     47.777600   -121.315000    6210.000000   \n",
       "\n",
       "          sqft_lot15  \n",
       "count   21613.000000  \n",
       "mean    12768.455652  \n",
       "std     27304.179631  \n",
       "min       651.000000  \n",
       "25%      5100.000000  \n",
       "50%      7620.000000  \n",
       "75%     10083.000000  \n",
       "max    871200.000000  \n",
       "\n",
       "[8 rows x 21 columns]"
      ]
     },
     "execution_count": 5,
     "metadata": {},
     "output_type": "execute_result"
    }
   ],
   "source": [
    "df_houses.describe()"
   ]
  },
  {
   "cell_type": "code",
   "execution_count": 6,
   "id": "ded5fdd8",
   "metadata": {},
   "outputs": [
    {
     "data": {
      "text/plain": [
       "<seaborn.axisgrid.FacetGrid at 0x17d656d3250>"
      ]
     },
     "execution_count": 6,
     "metadata": {},
     "output_type": "execute_result"
    },
    {
     "data": {
      "image/png": "[encoded data removed]",
      "text/plain": [
       "<Figure size 360x360 with 1 Axes>"
      ]
     },
     "metadata": {
      "needs_background": "light"
     },
     "output_type": "display_data"
    }
   ],
   "source": [
    "sns.displot(df_houses.price,kind=\"kde\")"
   ]
  },
  {
   "cell_type": "code",
   "execution_count": 7,
   "id": "dbadfa89",
   "metadata": {},
   "outputs": [
    {
     "data": {
      "text/plain": [
       "<AxesSubplot:xlabel='bathrooms', ylabel='price'>"
      ]
     },
     "execution_count": 7,
     "metadata": {},
     "output_type": "execute_result"
    },
    {
     "data": {
      "image/png": "[encoded data removed]",
      "text/plain": [
       "<Figure size 432x288 with 1 Axes>"
      ]
     },
     "metadata": {
      "needs_background": "light"
     },
     "output_type": "display_data"
    }
   ],
   "source": [
    "sns.scatterplot(data=df_houses,y='price',x='bathrooms')"
   ]
  },
  {
   "cell_type": "code",
   "execution_count": 8,
   "id": "df8038c5",
   "metadata": {},
   "outputs": [
    {
     "data": {
      "text/plain": [
       "<AxesSubplot:xlabel='sqft_living15', ylabel='price'>"
      ]
     },
     "execution_count": 8,
     "metadata": {},
     "output_type": "execute_result"
    },
    {
     "data": {
      "image/png": "[encoded data removed]",
      "text/plain": [
       "<Figure size 432x288 with 1 Axes>"
      ]
     },
     "metadata": {
      "needs_background": "light"
     },
     "output_type": "display_data"
    }
   ],
   "source": [
    "sns.scatterplot(data=df_houses,y='price',x='sqft_living15')"
   ]
  },
  {
   "cell_type": "code",
   "execution_count": 9,
   "id": "566d3097",
   "metadata": {},
   "outputs": [
    {
     "data": {
      "text/plain": [
       "<AxesSubplot:xlabel='grade', ylabel='price'>"
      ]
     },
     "execution_count": 9,
     "metadata": {},
     "output_type": "execute_result"
    },
    {
     "data": {
      "image/png": "[encoded data removed]",
      "text/plain": [
       "<Figure size 432x288 with 1 Axes>"
      ]
     },
     "metadata": {
      "needs_background": "light"
     },
     "output_type": "display_data"
    }
   ],
   "source": [
    "sns.scatterplot(data=df_houses,y='price',x='grade')"
   ]
  },
  {
   "cell_type": "code",
   "execution_count": 10,
   "id": "085c37a2",
   "metadata": {},
   "outputs": [
    {
     "data": {
      "text/plain": [
       "<AxesSubplot:xlabel='sqft_above', ylabel='price'>"
      ]
     },
     "execution_count": 10,
     "metadata": {},
     "output_type": "execute_result"
    },
    {
     "data": {
      "image/png": "[encoded data removed]",
      "text/plain": [
       "<Figure size 432x288 with 1 Axes>"
      ]
     },
     "metadata": {
      "needs_background": "light"
     },
     "output_type": "display_data"
    }
   ],
   "source": [
    "sns.scatterplot(data=df_houses,y='price',x='sqft_above')"
   ]
  },
  {
   "cell_type": "code",
   "execution_count": 11,
   "id": "5ebd1818",
   "metadata": {},
   "outputs": [
    {
     "data": {
      "text/plain": [
       "<AxesSubplot:xlabel='sqft_living15', ylabel='price'>"
      ]
     },
     "execution_count": 11,
     "metadata": {},
     "output_type": "execute_result"
    },
    {
     "data": {
      "image/png": "[encoded data removed]",
      "text/plain": [
       "<Figure size 432x288 with 1 Axes>"
      ]
     },
     "metadata": {
      "needs_background": "light"
     },
     "output_type": "display_data"
    }
   ],
   "source": [
    "sns.scatterplot(data=df_houses,y='price',x='sqft_living15')"
   ]
  },
  {
   "cell_type": "code",
   "execution_count": 12,
   "id": "3c09d45a",
   "metadata": {},
   "outputs": [],
   "source": [
    "##the most important features : bathrooms, sqft_living,  grade ,sqft_above"
   ]
  },
  {
   "cell_type": "code",
   "execution_count": null,
   "id": "d11707ae",
   "metadata": {},
   "outputs": [],
   "source": []
  },
  {
   "cell_type": "code",
   "execution_count": 13,
   "id": "797cd52e",
   "metadata": {},
   "outputs": [],
   "source": [
    "from sklearn.model_selection import train_test_split\n",
    "from sklearn.linear_model import LinearRegression\n",
    "from sklearn import metrics\n",
    "from sklearn.metrics import mean_squared_error\n",
    "y=df_houses['price'].to_numpy().reshape(-1, 1)\n",
    "X_1=df_houses['sqft_living'].to_numpy().reshape(-1, 1)\n",
    "X_1train, X_1test, y_train, y_test = train_test_split(X_1, y, test_size=0.2, random_state=10)"
   ]
  },
  {
   "cell_type": "code",
   "execution_count": 14,
   "id": "ca341be8",
   "metadata": {},
   "outputs": [],
   "source": [
    "reg_1 =LinearRegression().fit(X_1train, y_train)"
   ]
  },
  {
   "cell_type": "code",
   "execution_count": 15,
   "id": "d4e67a94",
   "metadata": {},
   "outputs": [
    {
     "data": {
      "text/plain": [
       "0.5073460545260231"
      ]
     },
     "execution_count": 15,
     "metadata": {},
     "output_type": "execute_result"
    }
   ],
   "source": [
    "reg_1.score(X_1test, y_test)"
   ]
  },
  {
   "cell_type": "code",
   "execution_count": 16,
   "id": "750db4d8",
   "metadata": {},
   "outputs": [
    {
     "name": "stdout",
     "output_type": "stream",
     "text": [
      "MSE 71973967322.16974\n",
      "R squared 0.5073460545260231\n"
     ]
    }
   ],
   "source": [
    "predicted=reg_1.predict(X_1test)\n",
    "print(\"MSE\", mean_squared_error(y_test,predicted))\n",
    "print(\"R squared\", metrics.r2_score(y_test,predicted))"
   ]
  },
  {
   "cell_type": "code",
   "execution_count": 17,
   "id": "7e51dbb6",
   "metadata": {},
   "outputs": [
    {
     "data": {
      "text/plain": [
       "array([[277.36412987]])"
      ]
     },
     "execution_count": 17,
     "metadata": {},
     "output_type": "execute_result"
    }
   ],
   "source": [
    "reg_1.coef_"
   ]
  },
  {
   "cell_type": "code",
   "execution_count": 18,
   "id": "f5570e91",
   "metadata": {},
   "outputs": [
    {
     "data": {
      "text/plain": [
       "[<matplotlib.lines.Line2D at 0x17d6b9fe760>]"
      ]
     },
     "execution_count": 18,
     "metadata": {},
     "output_type": "execute_result"
    },
    {
     "data": {
      "image/png": "[encoded data removed]",
      "text/plain": [
       "<Figure size 432x288 with 1 Axes>"
      ]
     },
     "metadata": {
      "needs_background": "light"
     },
     "output_type": "display_data"
    }
   ],
   "source": [
    "x = np.linspace(-5,5,100)\n",
    "y = 277.36412987*x\n",
    "plt.plot(x, y, '-r',)"
   ]
  },
  {
   "cell_type": "code",
   "execution_count": 19,
   "id": "3994bf5b",
   "metadata": {},
   "outputs": [],
   "source": [
    "X_2=df_houses[['sqft_living','grade']]\n",
    "y_2=df_houses['price']"
   ]
  },
  {
   "cell_type": "code",
   "execution_count": 20,
   "id": "278a18ea",
   "metadata": {},
   "outputs": [],
   "source": [
    "X_2train, X_2test, y_2train, y_2test = train_test_split(X_2, y_2, test_size=0.2, random_state=42)"
   ]
  },
  {
   "cell_type": "code",
   "execution_count": 21,
   "id": "14ff50ba",
   "metadata": {},
   "outputs": [],
   "source": [
    "reg_2=LinearRegression().fit(X_2train, y_2train)"
   ]
  },
  {
   "cell_type": "code",
   "execution_count": 22,
   "id": "11131a82",
   "metadata": {},
   "outputs": [
    {
     "name": "stdout",
     "output_type": "stream",
     "text": [
      "MSE 69834518251.59691\n",
      "R squared 0.5380603453464137\n"
     ]
    }
   ],
   "source": [
    "predicted_2=reg_2.predict(X_2test)\n",
    "print(\"MSE\", mean_squared_error(y_2test,predicted_2))\n",
    "print(\"R squared\", metrics.r2_score(y_2test,predicted_2))"
   ]
  },
  {
   "cell_type": "code",
   "execution_count": null,
   "id": "f8ee0d6e",
   "metadata": {},
   "outputs": [],
   "source": []
  },
  {
   "cell_type": "code",
   "execution_count": 23,
   "id": "a6934da2",
   "metadata": {},
   "outputs": [],
   "source": [
    "from sklearn.preprocessing import PolynomialFeatures"
   ]
  },
  {
   "cell_type": "code",
   "execution_count": 24,
   "id": "ae84f41b",
   "metadata": {},
   "outputs": [],
   "source": [
    "polynomial_features = PolynomialFeatures(degree=2)"
   ]
  },
  {
   "cell_type": "code",
   "execution_count": 25,
   "id": "bf5e96f9",
   "metadata": {},
   "outputs": [
    {
     "name": "stdout",
     "output_type": "stream",
     "text": [
      "MSE 68117250198.63033\n",
      "R squared 0.5494196878491721\n"
     ]
    }
   ],
   "source": [
    "X_3= polynomial_features.fit_transform(X_2)\n",
    "y_3=df_houses['price']\n",
    "X_3train, X_3test, y_3train, y_3test = train_test_split(X_3, y_3, test_size=0.2, random_state=42)\n",
    "reg_3=LinearRegression().fit(X_3train, y_3train)\n",
    "predicted_3=reg_3.predict(X_3test)\n",
    "print(\"MSE\", mean_squared_error(y_3test,predicted_3))\n",
    "print(\"R squared\", metrics.r2_score(y_3test,predicted_3))"
   ]
  },
  {
   "cell_type": "code",
   "execution_count": 26,
   "id": "6d527c45",
   "metadata": {},
   "outputs": [
    {
     "data": {
      "text/plain": [
       "Index(['id', 'date', 'price', 'bedrooms', 'bathrooms', 'sqft_living',\n",
       "       'sqft_lot', 'floors', 'waterfront', 'view', 'condition', 'grade',\n",
       "       'sqft_above', 'sqft_basement', 'yr_built', 'yr_renovated', 'zipcode',\n",
       "       'lat', 'long', 'sqft_living15', 'sqft_lot15'],\n",
       "      dtype='object')"
      ]
     },
     "execution_count": 26,
     "metadata": {},
     "output_type": "execute_result"
    }
   ],
   "source": [
    "df_houses.columns"
   ]
  },
  {
   "cell_type": "code",
   "execution_count": 27,
   "id": "9594c419",
   "metadata": {},
   "outputs": [
    {
     "name": "stdout",
     "output_type": "stream",
     "text": [
      "-0.0014790131651460925\n",
      "0.09436575511711587\n",
      "0.26964464512105624\n",
      "0.49406905389089006\n",
      "0.006175047825244251\n",
      "0.07056543067614418\n",
      "0.09372208612926058\n",
      "0.17089353872823665\n",
      "0.0004416040166129731\n",
      "0.45533658748438455\n",
      "0.37561381124490334\n",
      "0.10947870436448293\n",
      "0.003621815776830406\n",
      "0.01398513961881942\n",
      "0.08534665374010009\n",
      "-0.0007204099921620521\n",
      "0.3528024164498088\n",
      "0.007641746706859465\n"
     ]
    }
   ],
   "source": [
    "Q1 = df_houses.quantile(0.25)\n",
    "Q3 = df_houses.quantile(0.75)\n",
    "IQR = Q3 - Q1\n",
    "\n",
    "df = df_houses[~((df_houses < (Q1 - 1.5 * IQR)) |(df_houses > (Q3 + 1.5 * IQR))).any(axis=1)]\n",
    "for i in ['date','bedrooms', 'bathrooms', 'sqft_living',\n",
    "       'sqft_lot', 'floors', 'waterfront', 'view', 'condition', 'grade',\n",
    "       'sqft_above', 'sqft_basement', 'yr_built', 'yr_renovated',\n",
    "       'lat', 'long', 'sqft_living15', 'sqft_lot15']:\n",
    "    y=df_houses['price'].to_numpy().reshape(-1, 1)\n",
    "    X_1=df_houses[i].to_numpy().reshape(-1, 1)\n",
    "    X_1train, X_1test, y_train, y_test = train_test_split(X_1, y, test_size=0.2, random_state=42)\n",
    "    reg_1 =LinearRegression().fit(X_1train, y_train)\n",
    "    print(reg_1.score(X_1test, y_test))\n",
    "    \n",
    "    "
   ]
  },
  {
   "cell_type": "code",
   "execution_count": 28,
   "id": "19d70dbe",
   "metadata": {},
   "outputs": [
    {
     "name": "stdout",
     "output_type": "stream",
     "text": [
      "id\n",
      "Count of zeros in Column  C :  0\n",
      "date\n",
      "Count of zeros in Column  C :  0\n",
      "price\n",
      "Count of zeros in Column  C :  0\n",
      "bedrooms\n",
      "Count of zeros in Column  C :  13\n",
      "bathrooms\n",
      "Count of zeros in Column  C :  10\n",
      "sqft_living\n",
      "Count of zeros in Column  C :  0\n",
      "sqft_lot\n",
      "Count of zeros in Column  C :  0\n",
      "floors\n",
      "Count of zeros in Column  C :  0\n",
      "waterfront\n",
      "Count of zeros in Column  C :  21450\n",
      "view\n",
      "Count of zeros in Column  C :  19489\n",
      "condition\n",
      "Count of zeros in Column  C :  0\n",
      "grade\n",
      "Count of zeros in Column  C :  0\n",
      "sqft_above\n",
      "Count of zeros in Column  C :  0\n",
      "sqft_basement\n",
      "Count of zeros in Column  C :  13126\n",
      "yr_built\n",
      "Count of zeros in Column  C :  0\n",
      "yr_renovated\n",
      "Count of zeros in Column  C :  20699\n",
      "zipcode\n",
      "Count of zeros in Column  C :  0\n",
      "lat\n",
      "Count of zeros in Column  C :  0\n",
      "long\n",
      "Count of zeros in Column  C :  0\n",
      "sqft_living15\n",
      "Count of zeros in Column  C :  0\n",
      "sqft_lot15\n",
      "Count of zeros in Column  C :  0\n"
     ]
    }
   ],
   "source": [
    "for C in df_houses.columns :\n",
    "    column = df_houses[C] \n",
    "    count = column[column == 0].count()\n",
    "    print(C), print('Count of zeros in Column  C : ', count)"
   ]
  },
  {
   "cell_type": "code",
   "execution_count": 29,
   "id": "d258358a",
   "metadata": {},
   "outputs": [],
   "source": [
    "X=df_houses.drop(['id','waterfront','view','sqft_basement','yr_renovated','price'],axis=1)\n",
    "y=df_houses['price']"
   ]
  },
  {
   "cell_type": "code",
   "execution_count": 30,
   "id": "fec409fc",
   "metadata": {},
   "outputs": [],
   "source": [
    "X_train, X_test, y_train, y_test = train_test_split(X,y, test_size=0.2, random_state=24)\n"
   ]
  },
  {
   "cell_type": "code",
   "execution_count": 31,
   "id": "886ff160",
   "metadata": {},
   "outputs": [
    {
     "name": "stdout",
     "output_type": "stream",
     "text": [
      "MSE 49820695295.53469\n",
      "R squared 0.6647827779346752\n"
     ]
    }
   ],
   "source": [
    "reg_lin=LinearRegression().fit(X_train, y_train)\n",
    "predicted_3=reg_lin.predict(X_test)\n",
    "print(\"MSE\", mean_squared_error(y_test,predicted_3))\n",
    "print(\"R squared\", metrics.r2_score(y_test,predicted_3))"
   ]
  },
  {
   "cell_type": "code",
   "execution_count": 32,
   "id": "7cf08041",
   "metadata": {},
   "outputs": [
    {
     "name": "stdout",
     "output_type": "stream",
     "text": [
      "MSE 37417802046.15181\n",
      "R squared 0.7524896428321768\n"
     ]
    }
   ],
   "source": [
    "X_P= polynomial_features.fit_transform(X)\n",
    "X_Ptrain, X_Ptest, y_Ptrain, y_Ptest = train_test_split(X_P, y, test_size=0.2, random_state=42)\n",
    "reg_P=LinearRegression().fit(X_Ptrain, y_Ptrain)\n",
    "predicted_P=reg_P.predict(X_Ptest)\n",
    "print(\"MSE\", mean_squared_error(y_Ptest,predicted_P))\n",
    "print(\"R squared\", metrics.r2_score(y_Ptest,predicted_P))"
   ]
  },
  {
   "cell_type": "code",
   "execution_count": null,
   "id": "4499ac57",
   "metadata": {},
   "outputs": [],
   "source": []
  },
  {
   "cell_type": "code",
   "execution_count": null,
   "id": "c47e23d8",
   "metadata": {},
   "outputs": [],
   "source": []
  },
  {
   "cell_type": "code",
   "execution_count": null,
   "id": "003e79be",
   "metadata": {},
   "outputs": [],
   "source": []
  }
 ],
 "metadata": {
  "kernelspec": {
   "display_name": "Python 3",
   "language": "python",
   "name": "python3"
  },
  "language_info": {
   "codemirror_mode": {
    "name": "ipython",
    "version": 3
   },
   "file_extension": ".py",
   "mimetype": "text/x-python",
   "name": "python",
   "nbconvert_exporter": "python",
   "pygments_lexer": "ipython3",
   "version": "3.8.8"
  }
 },
 "nbformat": 4,
 "nbformat_minor": 5
}
